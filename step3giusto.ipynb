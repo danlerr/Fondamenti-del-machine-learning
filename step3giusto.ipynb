{
 "cells": [
  {
   "cell_type": "code",
   "execution_count": 17,
   "metadata": {},
   "outputs": [
    {
     "data": {
      "text/html": [
       "<div>\n",
       "<style scoped>\n",
       "    .dataframe tbody tr th:only-of-type {\n",
       "        vertical-align: middle;\n",
       "    }\n",
       "\n",
       "    .dataframe tbody tr th {\n",
       "        vertical-align: top;\n",
       "    }\n",
       "\n",
       "    .dataframe thead th {\n",
       "        text-align: right;\n",
       "    }\n",
       "</style>\n",
       "<table border=\"1\" class=\"dataframe\">\n",
       "  <thead>\n",
       "    <tr style=\"text-align: right;\">\n",
       "      <th></th>\n",
       "      <th>Age</th>\n",
       "      <th>SystolicBP</th>\n",
       "      <th>DiastolicBP</th>\n",
       "      <th>BS</th>\n",
       "      <th>BodyTemp</th>\n",
       "      <th>HeartRate</th>\n",
       "      <th>RiskLevel</th>\n",
       "    </tr>\n",
       "  </thead>\n",
       "  <tbody>\n",
       "    <tr>\n",
       "      <th>0</th>\n",
       "      <td>25.0</td>\n",
       "      <td>130</td>\n",
       "      <td>80.0</td>\n",
       "      <td>72.0</td>\n",
       "      <td>98</td>\n",
       "      <td>86.0</td>\n",
       "      <td>high risk</td>\n",
       "    </tr>\n",
       "    <tr>\n",
       "      <th>1</th>\n",
       "      <td>35.0</td>\n",
       "      <td>140</td>\n",
       "      <td>90.0</td>\n",
       "      <td>72.0</td>\n",
       "      <td>98</td>\n",
       "      <td>70.0</td>\n",
       "      <td>high risk</td>\n",
       "    </tr>\n",
       "    <tr>\n",
       "      <th>2</th>\n",
       "      <td>29.0</td>\n",
       "      <td>90</td>\n",
       "      <td>70.0</td>\n",
       "      <td>72.0</td>\n",
       "      <td>100</td>\n",
       "      <td>80.0</td>\n",
       "      <td>high risk</td>\n",
       "    </tr>\n",
       "    <tr>\n",
       "      <th>3</th>\n",
       "      <td>30.0</td>\n",
       "      <td>140</td>\n",
       "      <td>85.0</td>\n",
       "      <td>72.0</td>\n",
       "      <td>98</td>\n",
       "      <td>70.0</td>\n",
       "      <td>high risk</td>\n",
       "    </tr>\n",
       "    <tr>\n",
       "      <th>4</th>\n",
       "      <td>35.0</td>\n",
       "      <td>120</td>\n",
       "      <td>60.0</td>\n",
       "      <td>61.0</td>\n",
       "      <td>98</td>\n",
       "      <td>76.0</td>\n",
       "      <td>low risk</td>\n",
       "    </tr>\n",
       "    <tr>\n",
       "      <th>...</th>\n",
       "      <td>...</td>\n",
       "      <td>...</td>\n",
       "      <td>...</td>\n",
       "      <td>...</td>\n",
       "      <td>...</td>\n",
       "      <td>...</td>\n",
       "      <td>...</td>\n",
       "    </tr>\n",
       "    <tr>\n",
       "      <th>1004</th>\n",
       "      <td>48.0</td>\n",
       "      <td>120</td>\n",
       "      <td>80.0</td>\n",
       "      <td>72.0</td>\n",
       "      <td>98</td>\n",
       "      <td>88.0</td>\n",
       "      <td>high risk</td>\n",
       "    </tr>\n",
       "    <tr>\n",
       "      <th>1005</th>\n",
       "      <td>22.0</td>\n",
       "      <td>120</td>\n",
       "      <td>60.0</td>\n",
       "      <td>72.0</td>\n",
       "      <td>98</td>\n",
       "      <td>80.0</td>\n",
       "      <td>high risk</td>\n",
       "    </tr>\n",
       "    <tr>\n",
       "      <th>1006</th>\n",
       "      <td>55.0</td>\n",
       "      <td>120</td>\n",
       "      <td>90.0</td>\n",
       "      <td>72.0</td>\n",
       "      <td>98</td>\n",
       "      <td>60.0</td>\n",
       "      <td>high risk</td>\n",
       "    </tr>\n",
       "    <tr>\n",
       "      <th>1007</th>\n",
       "      <td>35.0</td>\n",
       "      <td>85</td>\n",
       "      <td>60.0</td>\n",
       "      <td>72.0</td>\n",
       "      <td>98</td>\n",
       "      <td>86.0</td>\n",
       "      <td>high risk</td>\n",
       "    </tr>\n",
       "    <tr>\n",
       "      <th>1008</th>\n",
       "      <td>43.0</td>\n",
       "      <td>120</td>\n",
       "      <td>90.0</td>\n",
       "      <td>72.0</td>\n",
       "      <td>98</td>\n",
       "      <td>70.0</td>\n",
       "      <td>high risk</td>\n",
       "    </tr>\n",
       "  </tbody>\n",
       "</table>\n",
       "<p>1009 rows × 7 columns</p>\n",
       "</div>"
      ],
      "text/plain": [
       "       Age  SystolicBP  DiastolicBP    BS  BodyTemp  HeartRate  RiskLevel\n",
       "0     25.0         130         80.0  72.0        98       86.0  high risk\n",
       "1     35.0         140         90.0  72.0        98       70.0  high risk\n",
       "2     29.0          90         70.0  72.0       100       80.0  high risk\n",
       "3     30.0         140         85.0  72.0        98       70.0  high risk\n",
       "4     35.0         120         60.0  61.0        98       76.0   low risk\n",
       "...    ...         ...          ...   ...       ...        ...        ...\n",
       "1004  48.0         120         80.0  72.0        98       88.0  high risk\n",
       "1005  22.0         120         60.0  72.0        98       80.0  high risk\n",
       "1006  55.0         120         90.0  72.0        98       60.0  high risk\n",
       "1007  35.0          85         60.0  72.0        98       86.0  high risk\n",
       "1008  43.0         120         90.0  72.0        98       70.0  high risk\n",
       "\n",
       "[1009 rows x 7 columns]"
      ]
     },
     "execution_count": 17,
     "metadata": {},
     "output_type": "execute_result"
    }
   ],
   "source": [
    "import numpy as np\n",
    "import pandas as pd\n",
    "import matplotlib.pyplot as plt\n",
    "import seaborn as sns; \n",
    "from sklearn.model_selection import train_test_split, GridSearchCV, learning_curve, validation_curve, cross_val_score\n",
    "from sklearn.preprocessing import StandardScaler\n",
    "data = pd.read_csv('training_c.csv')\n",
    "data"
   ]
  },
  {
   "cell_type": "markdown",
   "metadata": {},
   "source": [
    "Importiamo i classificatori progettati manualmente nello step 1"
   ]
  },
  {
   "cell_type": "code",
   "execution_count": 18,
   "metadata": {},
   "outputs": [],
   "source": [
    "import functions"
   ]
  },
  {
   "cell_type": "markdown",
   "metadata": {},
   "source": [
    "In questo step utilizziamo scikit learn solo per standardizzare i dati e dividere il dataset in training set e test set"
   ]
  },
  {
   "cell_type": "code",
   "execution_count": null,
   "metadata": {},
   "outputs": [],
   "source": [
    "\n",
    "# Divisione in training e test\n",
    "X = data.drop(\"RiskLevel\", axis=1)  # Separa le colonne contenenti le feature (escludendo \"RiskLevel\")\n",
    "y = data['RiskLevel']  # Estrai la colonna target (\"RiskLevel\")\n",
    "\n",
    "# Utilizzo di train_test_split per suddividere il dataset in training (80%) e test (20%)\n",
    "# 'stratify=y' assicura che la distribuzione delle classi nel target sia mantenuta nei due set\n",
    "# 'random_state=42' rende la divisione riproducibile\n",
    "X_train, X_test, y_train, y_test = train_test_split(\n",
    "    X, y, test_size=0.2, stratify=y, random_state=42\n",
    ")\n",
    "\n",
    "# Standardizzazione dei dati\n",
    "scaler = StandardScaler()  # Crea un oggetto per la standardizzazione\n",
    "X_train = scaler.fit_transform(X_train)  # Calcola la media e la deviazione standard su X_train, poi applica la trasformazione\n",
    "X_test = scaler.transform(X_test)  # Utilizza i parametri di X_train (media e deviazione) per standardizzare X_test\n",
    "\n",
    "# Convertiamo y_train e y_test in array numpy\n",
    "y_train = np.array(y_train)  # Converte la serie pandas y_train in un array numpy\n",
    "y_test = np.array(y_test)  # Converte la serie pandas y_test in un array numpy\n",
    "\n"
   ]
  },
  {
   "cell_type": "markdown",
   "metadata": {},
   "source": [
    "Quindi abbiamo il Training set (X_train, y_train) che è utilizzato per addestrare il modello. Il Test set (X_test, y_test) è utilizzato per valutare le prestazioni del modello.\n"
   ]
  },
  {
   "cell_type": "markdown",
   "metadata": {},
   "source": [
    "y_pred contiene le predizioni sul set di test fatte dal classificatore.\n",
    "Invece y_train contiene le etichette del set di training."
   ]
  },
  {
   "cell_type": "markdown",
   "metadata": {},
   "source": [
    "<h1> KNN"
   ]
  },
  {
   "cell_type": "markdown",
   "metadata": {},
   "source": [
    "Utilizziamo adesso il nostro classificatore KNN implementato nello step 1"
   ]
  },
  {
   "cell_type": "code",
   "execution_count": 20,
   "metadata": {},
   "outputs": [
    {
     "name": "stdout",
     "output_type": "stream",
     "text": [
      "Accuracy for k=1: 0.7752\n",
      "Accuracy for k=2: 0.7752\n",
      "Accuracy for k=3: 0.6870\n",
      "Accuracy for k=4: 0.7031\n",
      "Accuracy for k=5: 0.6944\n",
      "Accuracy for k=6: 0.7168\n",
      "Accuracy for k=7: 0.7068\n",
      "Accuracy for k=8: 0.7193\n",
      "Accuracy for k=9: 0.6894\n",
      "Accuracy for k=10: 0.7056\n",
      "Miglior valore di k: 1 con un'accuratezza di 0.7752\n",
      "Accuratezza finale sui dati di test (con k=1): 0.7574\n"
     ]
    }
   ],
   "source": [
    "# Trova il miglior valore di k usando cross-validation\n",
    "k_values = list(range(1, 11))  # Prova k da 1 a 10\n",
    "best_k = functions.find_best_k(X_train, y_train, k_values, num_folds=5)  # Cross-validation a 5 fold\n",
    "\n",
    "# Predizione di y_test con il miglior valore di k\n",
    "y_pred = functions.knn_predict(X_train, y_train, X_test, best_k)\n",
    "\n",
    "# Calcolo e stampa dell'accuratezza finale\n",
    "final_accuracy = np.mean(y_pred == y_test)\n",
    "print(f'Accuratezza finale sui dati di test (con k={best_k}): {final_accuracy:.4f}')\n",
    "\n"
   ]
  },
  {
   "cell_type": "markdown",
   "metadata": {},
   "source": [
    "Usiamo la funzione per calcolare la matrice di confusione "
   ]
  },
  {
   "cell_type": "markdown",
   "metadata": {},
   "source": [
    "Possiamo anche vedere la matrice di confusione graficamente con scikit learn"
   ]
  },
  {
   "cell_type": "code",
   "execution_count": 21,
   "metadata": {},
   "outputs": [
    {
     "data": {
      "image/png": "[encoded data removed]",
      "text/plain": [
       "<Figure size 640x480 with 1 Axes>"
      ]
     },
     "metadata": {},
     "output_type": "display_data"
    }
   ],
   "source": [
    "from sklearn.metrics import confusion_matrix\n",
    "mat = confusion_matrix(y_test, y_pred)\n",
    "\n",
    "sns.heatmap(mat, square = True, annot= True, cbar= False)\n",
    "plt.xlabel(\"Valore predetto\")\n",
    "plt.ylabel(\"Valore reale\");"
   ]
  },
  {
   "cell_type": "markdown",
   "metadata": {},
   "source": [
    "<h1> Gaussian Naive Bayes"
   ]
  },
  {
   "cell_type": "markdown",
   "metadata": {},
   "source": [
    "Utilizziamo adesso il nostro classificatore GNB implementato nello step 1"
   ]
  },
  {
   "cell_type": "code",
   "execution_count": 22,
   "metadata": {},
   "outputs": [
    {
     "name": "stdout",
     "output_type": "stream",
     "text": [
      "Accuracy: 0.58\n"
     ]
    }
   ],
   "source": [
    "\n",
    "parameters = functions.calcola_parametri(X_train, y_train)\n",
    "predictions = functions.predict(X_test, parameters)  # Prevediamo con il modello Gaussian Naive Bayes\n",
    "# Valutazione dell'accuratezza\n",
    "accuracy = functions.calculate_accuracy(y_test, predictions)\n",
    "print(f\"Accuracy: {accuracy:.2f}\")"
   ]
  },
  {
   "cell_type": "code",
   "execution_count": 23,
   "metadata": {},
   "outputs": [
    {
     "data": {
      "image/png": "[encoded data removed]",
      "text/plain": [
       "<Figure size 640x480 with 1 Axes>"
      ]
     },
     "metadata": {},
     "output_type": "display_data"
    }
   ],
   "source": [
    "mat = confusion_matrix(y_test, predictions)\n",
    "sns.heatmap(mat, square = True, annot= True, cbar= False)\n",
    "plt.xlabel(\"Valore predetto\")\n",
    "plt.ylabel(\"Valore reale\");"
   ]
  },
  {
   "cell_type": "code",
   "execution_count": 24,
   "metadata": {},
   "outputs": [
    {
     "name": "stdout",
     "output_type": "stream",
     "text": [
      "Random Forest Accuracy: 0.76\n"
     ]
    }
   ],
   "source": [
    "from sklearn.ensemble import RandomForestClassifier\n",
    "\n",
    "rf = RandomForestClassifier(n_estimators=100, random_state=42)\n",
    "rf.fit(X_train, y_train)\n",
    "rf_accuracy = rf.score(X_test, y_test)\n",
    "print(f'Random Forest Accuracy: {rf_accuracy:.2f}')"
   ]
  }
 ],
 "metadata": {
  "kernelspec": {
   "display_name": "base",
   "language": "python",
   "name": "python3"
  },
  "language_info": {
   "codemirror_mode": {
    "name": "ipython",
    "version": 3
   },
   "file_extension": ".py",
   "mimetype": "text/x-python",
   "name": "python",
   "nbconvert_exporter": "python",
   "pygments_lexer": "ipython3",
   "version": "3.11.7"
  }
 },
 "nbformat": 4,
 "nbformat_minor": 2
}
